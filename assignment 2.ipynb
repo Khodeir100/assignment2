{
 "cells": [
  {
   "cell_type": "code",
   "execution_count": 3,
   "id": "00bb1a33-b818-4b47-b6c2-80f7b0609e08",
   "metadata": {},
   "outputs": [
    {
     "name": "stdout",
     "output_type": "stream",
     "text": [
      "20\n",
      "50\n"
     ]
    }
   ],
   "source": [
    "# Write a program to print the maximum between two numbers. (one-line conditional statement)\n",
    "# Write a program to find the maximum between three numbers.\n",
    "print(max(20,10))\n",
    "print(max(5,17,50))"
   ]
  },
  {
   "cell_type": "code",
   "execution_count": 7,
   "id": "d456abe2-cd1b-4628-943b-64b13cd7b4a9",
   "metadata": {},
   "outputs": [
    {
     "name": "stdin",
     "output_type": "stream",
     "text": [
      "write a number 1\n"
     ]
    },
    {
     "name": "stdout",
     "output_type": "stream",
     "text": [
      "positive\n"
     ]
    }
   ],
   "source": [
    "# Write a program to check whether a number is negative, or positive (one-line conditional statement)\n",
    "x=float(input(\"write a number\"))\n",
    "print(\"positive\" if x>0 else (print(\"negative\") if x<0 else print(\"zero\")))"
   ]
  },
  {
   "cell_type": "code",
   "execution_count": 10,
   "id": "1dbd713d-1208-404f-9886-1b904f259890",
   "metadata": {},
   "outputs": [
    {
     "name": "stdin",
     "output_type": "stream",
     "text": [
      "write a numbe  9\n"
     ]
    },
    {
     "name": "stdout",
     "output_type": "stream",
     "text": [
      "odd\n"
     ]
    }
   ],
   "source": [
    "# Write a program to check whether a number is even or odd (one-line statement).\n",
    "x=(float(input(\"write a number \")))%2\n",
    "print(\"odd\" if x>0 else \"even\")"
   ]
  },
  {
   "cell_type": "code",
   "execution_count": 21,
   "id": "1ce79ddb-09fb-4536-aace-d042f42e88e0",
   "metadata": {},
   "outputs": [
    {
     "name": "stdin",
     "output_type": "stream",
     "text": [
      "write the year  2001\n"
     ]
    },
    {
     "name": "stdout",
     "output_type": "stream",
     "text": [
      "not a leap year\n"
     ]
    }
   ],
   "source": [
    "# Write a program to check whether a year is a leap year or not. (one-line conditional statement).\n",
    "x=(float(input(\"write the year \")))%4\n",
    "print(\"leap year\" if x==0 else \"not a leap year\")"
   ]
  },
  {
   "cell_type": "code",
   "execution_count": 27,
   "id": "cac08337-c515-4829-bdf3-96397d6208b6",
   "metadata": {},
   "outputs": [
    {
     "name": "stdin",
     "output_type": "stream",
     "text": [
      "index of the day  5\n"
     ]
    },
    {
     "name": "stdout",
     "output_type": "stream",
     "text": [
      "Thursday\n"
     ]
    }
   ],
   "source": [
    "# Write a program to store the weekdays in a list and access the week day and print it by index.\n",
    "week_days=[\"Saturday\",\"Sunday\",\"Monday\",\"Tuesday\",\"Wednesday\",\"Thursday\",\"Friday\"]\n",
    "x=int(input(\"index of the day \"))\n",
    "print(week_days[x])"
   ]
  },
  {
   "cell_type": "code",
   "execution_count": 49,
   "id": "e8fa9b9b-e1d7-4222-a333-6bc4ab9c9aef",
   "metadata": {},
   "outputs": [
    {
     "name": "stdout",
     "output_type": "stream",
     "text": [
      "A B C D E F G H I J K L M N O P Q R S T U V W X Y Z "
     ]
    }
   ],
   "source": [
    "# Write a program to print all alphabets from a to z using while loop\n",
    "import string\n",
    "for letter in string.ascii_uppercase:\n",
    "    print (letter, end=\" \")"
   ]
  },
  {
   "cell_type": "code",
   "execution_count": 63,
   "id": "ca4cd132-b3ad-4b3a-92fa-48d111960ebd",
   "metadata": {},
   "outputs": [
    {
     "name": "stdin",
     "output_type": "stream",
     "text": [
      "num.1 5\n",
      "num.2 6\n",
      "num.3 7\n"
     ]
    },
    {
     "name": "stdout",
     "output_type": "stream",
     "text": [
      "[7, 6, 5]\n"
     ]
    }
   ],
   "source": [
    "# Write a program to store numbers in the List and print its reverse\n",
    "x=[int(input(\"num.1\")),int(input(\"num.2\")),int(input(\"num.3\"))]\n",
    "x.reverse()\n",
    "print(x)"
   ]
  },
  {
   "cell_type": "code",
   "execution_count": 65,
   "id": "c49105db-42a9-46cc-a2b9-e29ea5f6c7c7",
   "metadata": {},
   "outputs": [
    {
     "name": "stdin",
     "output_type": "stream",
     "text": [
      "Enter a number  5\n"
     ]
    },
    {
     "name": "stdout",
     "output_type": "stream",
     "text": [
      "0.0\n",
      "5.0\n",
      "10.0\n",
      "15.0\n",
      "20.0\n",
      "25.0\n",
      "30.0\n",
      "35.0\n",
      "40.0\n",
      "45.0\n",
      "50.0\n",
      "55.0\n",
      "60.0\n"
     ]
    }
   ],
   "source": [
    "# Write a program to print the multiplcation table of any number\n",
    "x=float(input(\"Enter a number \"))\n",
    "for i in range(13):\n",
    "    print(x*i)"
   ]
  },
  {
   "cell_type": "code",
   "execution_count": 66,
   "id": "eb245d62-f052-4df1-952a-8246c66c59c8",
   "metadata": {},
   "outputs": [
    {
     "name": "stdout",
     "output_type": "stream",
     "text": [
      "2\n",
      "4\n",
      "6\n",
      "8\n",
      "10\n",
      "12\n",
      "14\n",
      "16\n",
      "18\n",
      "20\n",
      "22\n",
      "24\n",
      "26\n",
      "28\n",
      "30\n",
      "32\n",
      "34\n",
      "36\n",
      "38\n",
      "40\n",
      "42\n",
      "44\n",
      "46\n",
      "48\n",
      "50\n",
      "52\n",
      "54\n",
      "56\n",
      "58\n",
      "60\n",
      "62\n",
      "64\n",
      "66\n",
      "68\n",
      "70\n",
      "72\n",
      "74\n",
      "76\n",
      "78\n",
      "80\n",
      "82\n",
      "84\n",
      "86\n",
      "88\n",
      "90\n",
      "92\n",
      "94\n",
      "96\n",
      "98\n",
      "100\n"
     ]
    }
   ],
   "source": [
    "# Write a program to print all even numbers between 1 to 100.(using while loop)\n",
    "x=2\n",
    "while x<=100:\n",
    "    print(x)\n",
    "    x+=2"
   ]
  },
  {
   "cell_type": "code",
   "execution_count": 74,
   "id": "1f04e15e-ca16-43fc-918f-3dec46eba304",
   "metadata": {},
   "outputs": [
    {
     "name": "stdout",
     "output_type": "stream",
     "text": [
      "[1, 2, 3, 4, 5, 6]\n"
     ]
    }
   ],
   "source": [
    "# Write a Python program to add an item to a tuple.\n",
    "x=(1,2,3,4,5)\n",
    "y=list(x)\n",
    "y.append(6)\n",
    "print(y)"
   ]
  },
  {
   "cell_type": "code",
   "execution_count": 83,
   "id": "31c41235-dc35-4bf8-bc55-296e6084a265",
   "metadata": {},
   "outputs": [
    {
     "name": "stdout",
     "output_type": "stream",
     "text": [
      "21\n"
     ]
    }
   ],
   "source": [
    "#  Write a Python program to sum all the items in a list.\n",
    "x=[1,2,3,4,5,6]\n",
    "y=0\n",
    "for i in range(len(x)):\n",
    "    y=y+int(x[i])\n",
    "print(y)"
   ]
  },
  {
   "cell_type": "code",
   "execution_count": 84,
   "id": "b467d160-8999-464b-b652-7d297711d8da",
   "metadata": {},
   "outputs": [
    {
     "name": "stdout",
     "output_type": "stream",
     "text": [
      "720\n"
     ]
    }
   ],
   "source": [
    "# Write a Python program to multiply all the items in a list\n",
    "x=[1,2,3,4,5,6]\n",
    "y=1\n",
    "for i in range(len(x)):\n",
    "    y=y*int(x[i])\n",
    "print(y)"
   ]
  },
  {
   "cell_type": "code",
   "execution_count": 86,
   "id": "86ff3c3f-3d3d-451b-bccf-c628d9b5fa57",
   "metadata": {},
   "outputs": [
    {
     "name": "stdout",
     "output_type": "stream",
     "text": [
      "3\n",
      "99\n"
     ]
    }
   ],
   "source": [
    "# Write a Python program to get the smallest number from a list.\n",
    "# Write a Python program to get the largest number from a list.\n",
    "x=[5,9,3,12,20,99]\n",
    "print(min(x))\n",
    "print(max(x))"
   ]
  },
  {
   "cell_type": "code",
   "execution_count": 98,
   "id": "4ea5b572-fd1c-4739-b485-242cf2e936d6",
   "metadata": {},
   "outputs": [
    {
     "name": "stdout",
     "output_type": "stream",
     "text": [
      "4\n"
     ]
    }
   ],
   "source": [
    "# Write a Python program to count the number of strings from a given list of strings.\n",
    "x=[\"a\",\"b\",\"c\",\"d\"]\n",
    "l=len(x)\n",
    "print(l)"
   ]
  },
  {
   "cell_type": "code",
   "execution_count": 99,
   "id": "c1264beb-06de-4e8d-8c57-2db1b741585c",
   "metadata": {},
   "outputs": [
    {
     "name": "stdout",
     "output_type": "stream",
     "text": [
      "[0, 2, 5, 8, 11]\n"
     ]
    }
   ],
   "source": [
    "# Write a Python program to clone or copy a list.\n",
    "x=[0,2,5,8,11]\n",
    "x_copy=x\n",
    "print(x_copy)"
   ]
  },
  {
   "cell_type": "code",
   "execution_count": 100,
   "id": "eedc011b-c9aa-4f15-9b32-d02850435541",
   "metadata": {},
   "outputs": [
    {
     "name": "stdout",
     "output_type": "stream",
     "text": [
      "[5, 7, 9, 77]\n"
     ]
    }
   ],
   "source": [
    "# Write a Python program to remove item(s) from a given set.\n",
    "x={5,7,9,77,\"M\"}\n",
    "y=list(x)\n",
    "y.remove(\"M\")\n",
    "print(y)"
   ]
  },
  {
   "cell_type": "code",
   "execution_count": 103,
   "id": "c87f6615-ac82-4336-ad64-080a501f61e1",
   "metadata": {},
   "outputs": [
    {
     "name": "stdout",
     "output_type": "stream",
     "text": [
      "True\n"
     ]
    }
   ],
   "source": [
    "# Write a Python program to check if a set is a subset of another set.\n",
    "x={1,2,3}\n",
    "y={1,2,3,\"M\"}\n",
    "print(x.issubset(y))"
   ]
  },
  {
   "cell_type": "code",
   "execution_count": 115,
   "id": "c87a12ec-4f57-4ef9-8434-7140c9d91118",
   "metadata": {},
   "outputs": [
    {
     "name": "stdout",
     "output_type": "stream",
     "text": [
      "[]\n"
     ]
    }
   ],
   "source": [
    "# Write a Python program to remove all elements from a given set.\n",
    "x={1,2,3}\n",
    "y=list(x)\n",
    "y.clear()\n",
    "print(y)"
   ]
  },
  {
   "cell_type": "code",
   "execution_count": 117,
   "id": "422fd7c6-b275-4023-9f17-5db8f44dd932",
   "metadata": {},
   "outputs": [
    {
     "name": "stdout",
     "output_type": "stream",
     "text": [
      "100\n",
      "10\n"
     ]
    }
   ],
   "source": [
    "# Write a Python program to find the maximum and minimum values in a set.\n",
    "x={10,50,100}\n",
    "print(max(x))\n",
    "print(min(x))"
   ]
  },
  {
   "cell_type": "code",
   "execution_count": 118,
   "id": "2cc7ff5c-9bb6-454c-a017-9c4327ba3501",
   "metadata": {},
   "outputs": [
    {
     "name": "stdout",
     "output_type": "stream",
     "text": [
      "2\n"
     ]
    }
   ],
   "source": [
    "#  Write a Python program to find the index of an item in a tuple.\n",
    "x=(0,2,9,70)\n",
    "print(x.index(9))"
   ]
  },
  {
   "cell_type": "code",
   "execution_count": 125,
   "id": "2a91522f-a424-4095-a9d1-4101bfc1b6c9",
   "metadata": {},
   "outputs": [
    {
     "name": "stdout",
     "output_type": "stream",
     "text": [
      "{'M': 10, 'H': 20, 'O': 5}\n"
     ]
    }
   ],
   "source": [
    "# Write a Python program to convert a tuple to a dictionary.\n",
    "# Write a Python program to convert a list of tuples into a dictionary.\n",
    "x=((\"M\",10),(\"H\",20),(\"O\",5))\n",
    "y=dict(x)\n",
    "print(y)"
   ]
  },
  {
   "cell_type": "markdown",
   "id": "0235c5a8-a1ed-4bd1-b25d-32ebda11bc24",
   "metadata": {},
   "source": [
    "##  Write a Python program to unzip a list of tuples into individual lists.\n",
    "## can't solve"
   ]
  },
  {
   "cell_type": "code",
   "execution_count": 130,
   "id": "16615798-240b-45ab-93f5-b1b22066d40b",
   "metadata": {},
   "outputs": [
    {
     "name": "stdout",
     "output_type": "stream",
     "text": [
      "[100, 50, 5]\n"
     ]
    }
   ],
   "source": [
    "# Write a Python program to reverse a tuple.\n",
    "x=(5,50,100)\n",
    "y=list(x)\n",
    "y.reverse()\n",
    "print(y)"
   ]
  },
  {
   "cell_type": "code",
   "execution_count": 152,
   "id": "58c90140-78b5-496a-b327-5ff5f9d28c9c",
   "metadata": {},
   "outputs": [
    {
     "name": "stdout",
     "output_type": "stream",
     "text": [
      "[10, 20, 100]\n",
      "[40, 50, 100]\n",
      "[70, 80, 100]\n"
     ]
    }
   ],
   "source": [
    "# Write a Python program to replace the last value of tuples in a list.\n",
    "x=[(10,20,40),(40,50,60),(70,80,90)]\n",
    "l=[]\n",
    "for i in range(3):\n",
    "    y=list(x[i])\n",
    "    y[2]=100\n",
    "    print(y)"
   ]
  },
  {
   "cell_type": "code",
   "execution_count": 153,
   "id": "f43730a4-3cab-49d1-94b5-c1b810b537eb",
   "metadata": {},
   "outputs": [
    {
     "name": "stdout",
     "output_type": "stream",
     "text": [
      "[2, 9, 10, 23, 58, 70]\n"
     ]
    }
   ],
   "source": [
    "# Write a Python program to sort a tuple by its float element.\n",
    "x=(10,2,70,58,23,9)\n",
    "y=list(x)\n",
    "y.sort()\n",
    "print(y)"
   ]
  }
 ],
 "metadata": {
  "kernelspec": {
   "display_name": "Python 3 (ipykernel)",
   "language": "python",
   "name": "python3"
  },
  "language_info": {
   "codemirror_mode": {
    "name": "ipython",
    "version": 3
   },
   "file_extension": ".py",
   "mimetype": "text/x-python",
   "name": "python",
   "nbconvert_exporter": "python",
   "pygments_lexer": "ipython3",
   "version": "3.11.7"
  }
 },
 "nbformat": 4,
 "nbformat_minor": 5
}
